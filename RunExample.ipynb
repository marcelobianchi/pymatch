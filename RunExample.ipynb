{
 "cells": [
  {
   "cell_type": "code",
   "execution_count": null,
   "metadata": {
    "collapsed": false
   },
   "outputs": [],
   "source": [
    "import numpy as np\n",
    "from matplotlib import pyplot as plt\n",
    "import os, re\n",
    "import Match\n",
    "%matplotlib inline"
   ]
  },
  {
   "cell_type": "markdown",
   "metadata": {},
   "source": [
    "# (Re)-Load our Match GUI project"
   ]
  },
  {
   "cell_type": "code",
   "execution_count": null,
   "metadata": {
    "collapsed": false
   },
   "outputs": [],
   "source": [
    "_ = reload(Match)"
   ]
  },
  {
   "cell_type": "markdown",
   "metadata": {},
   "source": [
    "## Build a new conf file"
   ]
  },
  {
   "cell_type": "code",
   "execution_count": null,
   "metadata": {
    "collapsed": false
   },
   "outputs": [],
   "source": [
    "## Welll ... needs a better example !"
   ]
  },
  {
   "cell_type": "markdown",
   "metadata": {},
   "source": [
    "## Show a report of the file"
   ]
  },
  {
   "cell_type": "code",
   "execution_count": null,
   "metadata": {
    "collapsed": false
   },
   "outputs": [],
   "source": [
    "mcf = Match.MatchConfFile(\"test.conf\")\n",
    "mcf.report()"
   ]
  },
  {
   "cell_type": "markdown",
   "metadata": {},
   "source": [
    "## Get & Plot series"
   ]
  },
  {
   "cell_type": "code",
   "execution_count": null,
   "metadata": {
    "collapsed": false
   },
   "outputs": [],
   "source": [
    "plt.figure(figsize=(12,7))\n",
    "\n",
    "plt.subplot(1,2,1)\n",
    "_ = mcf.getSeries(2).plot()\n",
    "plt.subplot(1,2,2)\n",
    "_ = mcf.getSeries(1).plot()"
   ]
  },
  {
   "cell_type": "markdown",
   "metadata": {},
   "source": [
    "## Normalize a time series"
   ]
  },
  {
   "cell_type": "code",
   "execution_count": null,
   "metadata": {
    "collapsed": false
   },
   "outputs": [],
   "source": [
    "plt.figure(figsize=(12,7))\n",
    "\n",
    "sa = Match.Serie(\"b806l\")\n",
    "sb = Match.Serie(\"LR04core\")\n",
    "sa.report()\n",
    "_ = sa.normalize(sb).plot()\n",
    "_ = sb.plot()\n",
    "sa.report()\n",
    "\n",
    "plt.figure()\n",
    "\n",
    "_ = sa.normalize().plot()\n",
    "_ = sb.plot()"
   ]
  },
  {
   "cell_type": "markdown",
   "metadata": {},
   "source": [
    "## Save time-series"
   ]
  },
  {
   "cell_type": "code",
   "execution_count": null,
   "metadata": {
    "collapsed": false
   },
   "outputs": [],
   "source": [
    "b806l = Match.Serie(\"b806l\")\n",
    "b806l.normalize()\n",
    "b806l.write(\"b806l.norm\")"
   ]
  },
  {
   "cell_type": "markdown",
   "metadata": {},
   "source": [
    "## Run a try"
   ]
  },
  {
   "cell_type": "code",
   "execution_count": null,
   "metadata": {
    "collapsed": false
   },
   "outputs": [],
   "source": [
    "_ = reload(Match)\n",
    "\n",
    "plt.figure(figsize=(12,7))\n",
    "\n",
    "mcf = Match.MatchConfFile(\"test.conf\")\n",
    "mcf.end2 = 5000\n",
    "mcf.begin1 = 80\n",
    "mcf.write(\"teste.conf2\")\n",
    "mcf.report()\n",
    "mcf.run(True)\n",
    "sa = mcf.getSeries(1)\n",
    "sb = mcf.getSeries(2)\n",
    "sa.plotcomp(sb)"
   ]
  },
  {
   "cell_type": "markdown",
   "metadata": {},
   "source": [
    "## Perform an optimization example"
   ]
  },
  {
   "cell_type": "code",
   "execution_count": null,
   "metadata": {
    "collapsed": false,
    "scrolled": false
   },
   "outputs": [],
   "source": [
    "_ = reload(Match)\n",
    "\n",
    "mcf = Match.MatchConfFile(\"test.conf\")\n",
    "mcf.numintervals1 = 450\n",
    "mcf.numintervals2 = 450\n",
    "mcf.report()\n",
    "mcf.optimize('targetspeed', \"1:3,2:5,1:2,3:5,2:3,3:4,4:5,1:1,5:4,4:3,3:2,5:3,2:1,5:2,3:1\".split(\",\"))"
   ]
  },
  {
   "cell_type": "markdown",
   "metadata": {},
   "source": [
    "## Test ties sub-system"
   ]
  },
  {
   "cell_type": "code",
   "execution_count": null,
   "metadata": {
    "collapsed": false
   },
   "outputs": [],
   "source": [
    "_ = reload(Match)\n",
    "sa = Match.Serie(\"b806l\")\n",
    "\n",
    "sa.setTie(\"A\", 10.)\n",
    "sa.setTie(\"A\", 20.)\n",
    "sa.setTie(\"B\", 30.)\n",
    "\n",
    "print sa.ties\n",
    "print sa.ties['A']"
   ]
  }
 ],
 "metadata": {
  "kernelspec": {
   "display_name": "Python 2",
   "language": "python",
   "name": "python2"
  },
  "language_info": {
   "codemirror_mode": {
    "name": "ipython",
    "version": 2
   },
   "file_extension": ".py",
   "mimetype": "text/x-python",
   "name": "python",
   "nbconvert_exporter": "python",
   "pygments_lexer": "ipython2",
   "version": "2.7.12"
  }
 },
 "nbformat": 4,
 "nbformat_minor": 2
}
