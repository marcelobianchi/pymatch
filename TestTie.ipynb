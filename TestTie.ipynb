{
 "cells": [
  {
   "cell_type": "markdown",
   "metadata": {},
   "source": [
    "# What we do here\n",
    "\n",
    "Test the tie file object. Create a tie, make a conf file attach the tie and later, fetch the serie and plot it. Ties are black marks on the serie plot()."
   ]
  },
  {
   "cell_type": "code",
   "execution_count": null,
   "metadata": {
    "collapsed": true
   },
   "outputs": [],
   "source": [
    "import Match\n",
    "%matplotlib inline"
   ]
  },
  {
   "cell_type": "code",
   "execution_count": null,
   "metadata": {
    "collapsed": false
   },
   "outputs": [],
   "source": [
    "tt = Match.Tie(\"testtie.tie\")\n",
    "\n",
    "tt.set_tie(1000, 2000., label = \"A\")\n",
    "tt.set_tie(1500.0, 2500., label =\"B\")\n",
    "tt.report()\n",
    "print \"Save: \", tt.save()"
   ]
  },
  {
   "cell_type": "code",
   "execution_count": null,
   "metadata": {
    "collapsed": false
   },
   "outputs": [],
   "source": [
    "# Createa  conf file and attach the tie\n",
    "mcf = Match.MatchConfFile(\"test.conf\")\n",
    "mcf.setSeries(1, \"LR04core\")\n",
    "mcf.setSeries(2, \"LR04core\")\n",
    "mcf.guessParameters()\n",
    "mcf.generateSpeeds(1,1)\n",
    "mcf.targetspeed = \"1:1\"\n",
    "\n",
    "# attacht\n",
    "mcf.tiefile = tt.filename"
   ]
  },
  {
   "cell_type": "code",
   "execution_count": null,
   "metadata": {
    "collapsed": false
   },
   "outputs": [],
   "source": [
    "# Ask the serie from the conf file, it should come with the tie set\n",
    "mcf.getSeries(1).plot()"
   ]
  },
  {
   "cell_type": "code",
   "execution_count": null,
   "metadata": {
    "collapsed": false
   },
   "outputs": [],
   "source": [
    "mcf.getSeries(2).plot()"
   ]
  }
 ],
 "metadata": {
  "kernelspec": {
   "display_name": "Python 2",
   "language": "python",
   "name": "python2"
  },
  "language_info": {
   "codemirror_mode": {
    "name": "ipython",
    "version": 2
   },
   "file_extension": ".py",
   "mimetype": "text/x-python",
   "name": "python",
   "nbconvert_exporter": "python",
   "pygments_lexer": "ipython2",
   "version": "2.7.13"
  }
 },
 "nbformat": 4,
 "nbformat_minor": 2
}
