{
 "cells": [
  {
   "cell_type": "code",
   "execution_count": null,
   "metadata": {
    "collapsed": true
   },
   "outputs": [],
   "source": [
    "import Match\n",
    "%matplotlib inline"
   ]
  },
  {
   "cell_type": "code",
   "execution_count": null,
   "metadata": {
    "collapsed": false
   },
   "outputs": [],
   "source": [
    "tt = Match.Tie(\"testtie.tie\")\n",
    "\n",
    "tt.set_tie(1200.0, 1050., label = \"A\")\n",
    "tt.set_tie(2100.0, 1200., label =\"B\")\n",
    "tt.report()\n",
    "print \"Save: \", tt.save()"
   ]
  },
  {
   "cell_type": "code",
   "execution_count": null,
   "metadata": {
    "collapsed": false
   },
   "outputs": [],
   "source": [
    "mcf = Match.MatchConfFile(\"test.conf\")\n",
    "mcf.setSeries(1, \"LR04core\")\n",
    "mcf.setSeries(2, \"LR04core\")\n",
    "mcf.guessParameters()\n",
    "mcf.generateSpeeds(1,1)\n",
    "mcf.targetspeed = \"1:1\"\n",
    "mcf.tiefile = tt.filename"
   ]
  },
  {
   "cell_type": "code",
   "execution_count": null,
   "metadata": {
    "collapsed": false
   },
   "outputs": [],
   "source": [
    "mcf.getSeries(1).plot()"
   ]
  },
  {
   "cell_type": "code",
   "execution_count": null,
   "metadata": {
    "collapsed": false
   },
   "outputs": [],
   "source": [
    "mcf.getSeries(2).plot()"
   ]
  }
 ],
 "metadata": {
  "kernelspec": {
   "display_name": "Python 2",
   "language": "python",
   "name": "python2"
  },
  "language_info": {
   "codemirror_mode": {
    "name": "ipython",
    "version": 2
   },
   "file_extension": ".py",
   "mimetype": "text/x-python",
   "name": "python",
   "nbconvert_exporter": "python",
   "pygments_lexer": "ipython2",
   "version": "2.7.12"
  }
 },
 "nbformat": 4,
 "nbformat_minor": 2
}
