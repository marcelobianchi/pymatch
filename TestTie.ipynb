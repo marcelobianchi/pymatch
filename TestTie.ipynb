{
 "cells": [
  {
   "cell_type": "markdown",
   "metadata": {},
   "source": [
    "# What we do here\n",
    "\n",
    "Test the tie file object. Create a tie, make a conf file attach the tie and later, fetch the serie and plot it. Ties are black marks on the serie plot()."
   ]
  },
  {
   "cell_type": "code",
   "execution_count": null,
   "metadata": {},
   "outputs": [],
   "source": [
    "from __future__ import print_function, division\n",
    "\n",
    "import Match\n",
    "import sys\n",
    "import os\n",
    "\n",
    "# This is for Python 3\n",
    "if sys.version_info.major > 2:\n",
    "    from importlib import reload\n",
    "\n",
    "%matplotlib inline"
   ]
  },
  {
   "cell_type": "code",
   "execution_count": null,
   "metadata": {},
   "outputs": [],
   "source": [
    "reload(Match)"
   ]
  },
  {
   "cell_type": "code",
   "execution_count": null,
   "metadata": {},
   "outputs": [],
   "source": [
    "tt = Match.Tie(\"testtie.tie\")\n",
    "\n",
    "tt.set_tie(1000, 2000., label = \"A\")\n",
    "tt.set_tie(1500.0, 2500., label =\"B\")\n",
    "tt.report()\n",
    "print(\"Save: \", tt.save())"
   ]
  },
  {
   "cell_type": "code",
   "execution_count": null,
   "metadata": {},
   "outputs": [],
   "source": [
    "# Createa  conf file and attach the tie\n",
    "mcf = Match.MatchConfFile(\"test.conf\")\n",
    "mcf.setSeries(1, \"LR04core\")\n",
    "mcf.setSeries(2, \"LR04core\")\n",
    "mcf.guessParameters()\n",
    "mcf.generateSpeeds(1,1)\n",
    "mcf.targetspeed = \"1:1\"\n",
    "\n",
    "# attacht\n",
    "mcf.tiefile = tt.filename"
   ]
  },
  {
   "cell_type": "code",
   "execution_count": null,
   "metadata": {
    "scrolled": true
   },
   "outputs": [],
   "source": [
    "# Ask the serie from the conf file, it should come with the tie set\n",
    "mcf.getSeries(1).plot()"
   ]
  },
  {
   "cell_type": "code",
   "execution_count": null,
   "metadata": {},
   "outputs": [],
   "source": [
    "mcf.getSeries(2).plot()"
   ]
  }
 ],
 "metadata": {
  "kernelspec": {
   "display_name": "Python 2",
   "language": "python",
   "name": "python2"
  },
  "language_info": {
   "codemirror_mode": {
    "name": "ipython",
    "version": 2
   },
   "file_extension": ".py",
   "mimetype": "text/x-python",
   "name": "python",
   "nbconvert_exporter": "python",
   "pygments_lexer": "ipython2",
   "version": "2.7.16"
  }
 },
 "nbformat": 4,
 "nbformat_minor": 2
}
