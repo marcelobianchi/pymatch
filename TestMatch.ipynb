{
 "cells": [
  {
   "cell_type": "markdown",
   "metadata": {},
   "source": [
    "# What we do here\n",
    "\n",
    "Here we test the base MatchConfFile object. It teachs you how to create a new conf file and run match from scratch. It also create and add ties and finally show how to optimize a parameter."
   ]
  },
  {
   "cell_type": "code",
   "execution_count": null,
   "metadata": {},
   "outputs": [],
   "source": [
    "from __future__ import print_function, division\n",
    "\n",
    "import Match\n",
    "import os\n",
    "import sys\n",
    "\n",
    "from matplotlib import pyplot as plt\n",
    "%matplotlib inline"
   ]
  },
  {
   "cell_type": "markdown",
   "metadata": {},
   "source": [
    "## Create from Scratch"
   ]
  },
  {
   "cell_type": "code",
   "execution_count": null,
   "metadata": {},
   "outputs": [],
   "source": [
    "if sys.version_info.major > 2:\n",
    "    from importlib import reload\n",
    "\n",
    "_ = reload(Match)"
   ]
  },
  {
   "cell_type": "markdown",
   "metadata": {},
   "source": [
    "## Set Series"
   ]
  },
  {
   "cell_type": "code",
   "execution_count": null,
   "metadata": {},
   "outputs": [],
   "source": [
    "if os.path.isfile(\"test.conf\"): os.unlink(\"test.conf\")\n",
    "\n",
    "mcf = Match.MatchConfFile(\"test.conf\")\n",
    "\n",
    "_ = mcf.setSeries(1, \"LR04core\")\n",
    "_ = mcf.setSeries(2, \"LR04core\")"
   ]
  },
  {
   "cell_type": "markdown",
   "metadata": {},
   "source": [
    "## Test set parameters"
   ]
  },
  {
   "cell_type": "code",
   "execution_count": null,
   "metadata": {},
   "outputs": [],
   "source": [
    "mcf.generateSpeeds(1, 5)\n",
    "\n",
    "mcf.nomatch = 1.0\n",
    "mcf.speedpenalty = 1.0\n",
    "mcf.targetspeed = \"1:1\"\n",
    "mcf.speedchange = 1.0\n",
    "mcf.tiepenalty = 1.0\n",
    "mcf.gappenalty = 1.0"
   ]
  },
  {
   "cell_type": "code",
   "execution_count": null,
   "metadata": {},
   "outputs": [],
   "source": [
    "mcf.save()\n",
    "\n",
    "mcf.report()\n",
    "_ = mcf.run()"
   ]
  },
  {
   "cell_type": "markdown",
   "metadata": {},
   "source": [
    "## Add a tie point"
   ]
  },
  {
   "cell_type": "code",
   "execution_count": null,
   "metadata": {
    "scrolled": true
   },
   "outputs": [],
   "source": [
    "tfile = Match.Tie(\"new_tie\")\n",
    "tfile.set_tie(1500, 1400, label=\"A\", segment_one=1, segment_two=1)\n",
    "tfile.set_tie(1700, 1600, label=\"B\", segment_one=1, segment_two=1)\n",
    "tfile.report()\n",
    "tfile.save()"
   ]
  },
  {
   "cell_type": "code",
   "execution_count": null,
   "metadata": {},
   "outputs": [],
   "source": [
    "# Set the Tie File\n",
    "mcf.tiefile = \"new_tie\"\n",
    "mcf.guessParameters()\n",
    "mcf.report()\n",
    "\n",
    "# Save & Run\n",
    "mcf.save()\n",
    "mcf.run()"
   ]
  },
  {
   "cell_type": "markdown",
   "metadata": {},
   "source": [
    "## Read the written conf file"
   ]
  },
  {
   "cell_type": "code",
   "execution_count": null,
   "metadata": {},
   "outputs": [],
   "source": [
    "_ = mcf.optimize(\"speedchange\", [0.0, 5.0, 10.])"
   ]
  },
  {
   "cell_type": "code",
   "execution_count": null,
   "metadata": {},
   "outputs": [],
   "source": [
    "plt.figure(figsize=(20,10))\n",
    "mcf.getSeries(1).plotcomp(mcf.getSeries(2))"
   ]
  },
  {
   "cell_type": "code",
   "execution_count": null,
   "metadata": {},
   "outputs": [],
   "source": [
    "mcf.clean()"
   ]
  },
  {
   "cell_type": "markdown",
   "metadata": {},
   "source": [
    "## Clean Up"
   ]
  },
  {
   "cell_type": "code",
   "execution_count": null,
   "metadata": {},
   "outputs": [],
   "source": [
    "os.unlink(\"test.conf\")\n",
    "os.unlink(\"new_tie\")"
   ]
  }
 ],
 "metadata": {
  "kernelspec": {
   "display_name": "Python 2",
   "language": "python",
   "name": "python2"
  },
  "language_info": {
   "codemirror_mode": {
    "name": "ipython",
    "version": 2
   },
   "file_extension": ".py",
   "mimetype": "text/x-python",
   "name": "python",
   "nbconvert_exporter": "python",
   "pygments_lexer": "ipython2",
   "version": "2.7.16"
  }
 },
 "nbformat": 4,
 "nbformat_minor": 2
}
